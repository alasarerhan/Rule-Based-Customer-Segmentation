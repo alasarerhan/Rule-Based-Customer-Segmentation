{
 "cells": [
  {
   "attachments": {
    "717225aa-501b-42cb-a7b9-ebfec479bd48.jpeg": {
     "image/jpeg": "[encoded data removed]"
    }
   },
   "cell_type": "markdown",
   "id": "06f9ec87",
   "metadata": {
    "papermill": {
     "duration": 0.014752,
     "end_time": "2024-05-21T12:01:12.987569",
     "exception": false,
     "start_time": "2024-05-21T12:01:12.972817",
     "status": "completed"
    },
    "tags": []
   },
   "source": [
    "![images.jpeg](attachment:717225aa-501b-42cb-a7b9-ebfec479bd48.jpeg)"
   ]
  },
  {
   "cell_type": "markdown",
   "id": "7a7a9367",
   "metadata": {
    "papermill": {
     "duration": 0.013547,
     "end_time": "2024-05-21T12:01:13.014609",
     "exception": false,
     "start_time": "2024-05-21T12:01:13.001062",
     "status": "completed"
    },
    "tags": []
   },
   "source": [
    " # Information about the project:\n",
    "  ### This is a case study project I completed during my miuul datascientist bootcamp week 2. It contains sales data from a company called gezinomi, which sells holiday packages in Türkiye"
   ]
  },
  {
   "cell_type": "markdown",
   "id": "7dc5c0cf",
   "metadata": {
    "papermill": {
     "duration": 0.01429,
     "end_time": "2024-05-21T12:01:13.043757",
     "exception": false,
     "start_time": "2024-05-21T12:01:13.029467",
     "status": "completed"
    },
    "tags": []
   },
   "source": [
    "# Business Problem\n",
    "    Gezinomi uses some of the features of its sales to provide level-based (level based) new sales definitions and create new sales definitions segments according to their definitions and create new segments according to these segmentshow much the company can earn on average from prospective customers to predict the outcome. \n",
    "\n",
    "     For example: It is desired to determine how much a customer who wants to go to an All Inclusive hotel from Antalya during a busy period can spend on average."
   ]
  },
  {
   "cell_type": "markdown",
   "id": "d19816ce",
   "metadata": {
    "papermill": {
     "duration": 0.015344,
     "end_time": "2024-05-21T12:01:13.072850",
     "exception": false,
     "start_time": "2024-05-21T12:01:13.057506",
     "status": "completed"
    },
    "tags": []
   },
   "source": [
    "# Dataset History and Variables\n",
    "    The data set contains the prices of the sales made by Gezinomi company and information about these sales. The data set consists of records that occur in each sales transaction. This means that the table is not deduplicated. In other words, the customer may have made more than one purchase.\n",
    "    \n",
    "    Variables:\n",
    "    SaleId: Sale id\n",
    "    SaleDate : Sale Date\n",
    "    Price: Price paid for the sale\n",
    "    ConceptName:Hotel concept information\n",
    "    SaleCityName: City information where the hotel is located\n",
    "    CheckInDate Customer's check-in date\n",
    "    CInDay:Customer's check-in day\n",
    "    SaleCheckInDayDiff: Day difference between check in and check-in date\n",
    "    Season:Season information on the check-in date"
   ]
  },
  {
   "cell_type": "markdown",
   "id": "6a593d64",
   "metadata": {
    "papermill": {
     "duration": 0.013875,
     "end_time": "2024-05-21T12:01:13.100655",
     "exception": false,
     "start_time": "2024-05-21T12:01:13.086780",
     "status": "completed"
    },
    "tags": []
   },
   "source": [
    "#### Now we will move forward by completing given tasks.Task 1 consists of 9 questions. Let's start."
   ]
  },
  {
   "cell_type": "markdown",
   "id": "a7eb096d",
   "metadata": {
    "papermill": {
     "duration": 0.013915,
     "end_time": "2024-05-21T12:01:13.129557",
     "exception": false,
     "start_time": "2024-05-21T12:01:13.115642",
     "status": "completed"
    },
    "tags": []
   },
   "source": [
    " # Task 1: Answer the following questions"
   ]
  },
  {
   "cell_type": "markdown",
   "id": "284cdfad",
   "metadata": {
    "papermill": {
     "duration": 0.013552,
     "end_time": "2024-05-21T12:01:13.157499",
     "exception": false,
     "start_time": "2024-05-21T12:01:13.143947",
     "status": "completed"
    },
    "tags": []
   },
   "source": [
    "### Question 1:\n",
    "    Read the gezinomi.xlsx file and show general information about the data set\n"
   ]
  },
  {
   "cell_type": "code",
   "execution_count": 1,
   "id": "b0e47b7f",
   "metadata": {
    "execution": {
     "iopub.execute_input": "2024-05-21T12:01:13.189107Z",
     "iopub.status.busy": "2024-05-21T12:01:13.188657Z",
     "iopub.status.idle": "2024-05-21T12:01:29.196235Z",
     "shell.execute_reply": "2024-05-21T12:01:29.194938Z"
    },
    "papermill": {
     "duration": 16.026744,
     "end_time": "2024-05-21T12:01:29.199162",
     "exception": false,
     "start_time": "2024-05-21T12:01:13.172418",
     "status": "completed"
    },
    "tags": []
   },
   "outputs": [
    {
     "data": {
      "text/html": [
       "<div>\n",
       "<style scoped>\n",
       "    .dataframe tbody tr th:only-of-type {\n",
       "        vertical-align: middle;\n",
       "    }\n",
       "\n",
       "    .dataframe tbody tr th {\n",
       "        vertical-align: top;\n",
       "    }\n",
       "\n",
       "    .dataframe thead th {\n",
       "        text-align: right;\n",
       "    }\n",
       "</style>\n",
       "<table border=\"1\" class=\"dataframe\">\n",
       "  <thead>\n",
       "    <tr style=\"text-align: right;\">\n",
       "      <th></th>\n",
       "      <th>SaleId</th>\n",
       "      <th>SaleDate</th>\n",
       "      <th>CheckInDate</th>\n",
       "      <th>Price</th>\n",
       "      <th>ConceptName</th>\n",
       "      <th>SaleCityName</th>\n",
       "      <th>CInDay</th>\n",
       "      <th>SaleCheckInDayDiff</th>\n",
       "      <th>Seasons</th>\n",
       "    </tr>\n",
       "  </thead>\n",
       "  <tbody>\n",
       "    <tr>\n",
       "      <th>0</th>\n",
       "      <td>415122</td>\n",
       "      <td>2022-12-03</td>\n",
       "      <td>2022-12-03</td>\n",
       "      <td>79.304029</td>\n",
       "      <td>Herşey Dahil</td>\n",
       "      <td>Antalya</td>\n",
       "      <td>Saturday</td>\n",
       "      <td>0</td>\n",
       "      <td>Low</td>\n",
       "    </tr>\n",
       "    <tr>\n",
       "      <th>1</th>\n",
       "      <td>415103</td>\n",
       "      <td>2022-12-03</td>\n",
       "      <td>2022-12-03</td>\n",
       "      <td>45.970696</td>\n",
       "      <td>Yarım Pansiyon</td>\n",
       "      <td>Antalya</td>\n",
       "      <td>Saturday</td>\n",
       "      <td>0</td>\n",
       "      <td>Low</td>\n",
       "    </tr>\n",
       "    <tr>\n",
       "      <th>2</th>\n",
       "      <td>404034</td>\n",
       "      <td>2022-09-12</td>\n",
       "      <td>2022-09-13</td>\n",
       "      <td>77.838828</td>\n",
       "      <td>Herşey Dahil</td>\n",
       "      <td>Antalya</td>\n",
       "      <td>Tuesday</td>\n",
       "      <td>1</td>\n",
       "      <td>High</td>\n",
       "    </tr>\n",
       "    <tr>\n",
       "      <th>3</th>\n",
       "      <td>415094</td>\n",
       "      <td>2022-12-03</td>\n",
       "      <td>2022-12-10</td>\n",
       "      <td>222.710623</td>\n",
       "      <td>Yarım Pansiyon</td>\n",
       "      <td>İzmir</td>\n",
       "      <td>Saturday</td>\n",
       "      <td>7</td>\n",
       "      <td>Low</td>\n",
       "    </tr>\n",
       "    <tr>\n",
       "      <th>4</th>\n",
       "      <td>414951</td>\n",
       "      <td>2022-12-01</td>\n",
       "      <td>2022-12-03</td>\n",
       "      <td>140.476190</td>\n",
       "      <td>Yarım Pansiyon</td>\n",
       "      <td>İzmir</td>\n",
       "      <td>Saturday</td>\n",
       "      <td>2</td>\n",
       "      <td>Low</td>\n",
       "    </tr>\n",
       "  </tbody>\n",
       "</table>\n",
       "</div>"
      ],
      "text/plain": [
       "   SaleId   SaleDate CheckInDate       Price     ConceptName SaleCityName  \\\n",
       "0  415122 2022-12-03  2022-12-03   79.304029    Herşey Dahil      Antalya   \n",
       "1  415103 2022-12-03  2022-12-03   45.970696  Yarım Pansiyon      Antalya   \n",
       "2  404034 2022-09-12  2022-09-13   77.838828    Herşey Dahil      Antalya   \n",
       "3  415094 2022-12-03  2022-12-10  222.710623  Yarım Pansiyon        İzmir   \n",
       "4  414951 2022-12-01  2022-12-03  140.476190  Yarım Pansiyon        İzmir   \n",
       "\n",
       "     CInDay  SaleCheckInDayDiff Seasons  \n",
       "0  Saturday                   0     Low  \n",
       "1  Saturday                   0     Low  \n",
       "2   Tuesday                   1    High  \n",
       "3  Saturday                   7     Low  \n",
       "4  Saturday                   2     Low  "
      ]
     },
     "execution_count": 1,
     "metadata": {},
     "output_type": "execute_result"
    }
   ],
   "source": [
    "import pandas as pd\n",
    "df = pd.read_excel(\"/kaggle/input/gezinomi/miuul_gezinomi.xlsx\")\n",
    "df.head()"
   ]
  },
  {
   "cell_type": "code",
   "execution_count": 2,
   "id": "cc2a0f2c",
   "metadata": {
    "execution": {
     "iopub.execute_input": "2024-05-21T12:01:29.229945Z",
     "iopub.status.busy": "2024-05-21T12:01:29.228786Z",
     "iopub.status.idle": "2024-05-21T12:01:29.277380Z",
     "shell.execute_reply": "2024-05-21T12:01:29.276059Z"
    },
    "papermill": {
     "duration": 0.067441,
     "end_time": "2024-05-21T12:01:29.280294",
     "exception": false,
     "start_time": "2024-05-21T12:01:29.212853",
     "status": "completed"
    },
    "tags": []
   },
   "outputs": [
    {
     "data": {
      "text/html": [
       "<div>\n",
       "<style scoped>\n",
       "    .dataframe tbody tr th:only-of-type {\n",
       "        vertical-align: middle;\n",
       "    }\n",
       "\n",
       "    .dataframe tbody tr th {\n",
       "        vertical-align: top;\n",
       "    }\n",
       "\n",
       "    .dataframe thead th {\n",
       "        text-align: right;\n",
       "    }\n",
       "</style>\n",
       "<table border=\"1\" class=\"dataframe\">\n",
       "  <thead>\n",
       "    <tr style=\"text-align: right;\">\n",
       "      <th></th>\n",
       "      <th>SaleId</th>\n",
       "      <th>SaleDate</th>\n",
       "      <th>CheckInDate</th>\n",
       "      <th>Price</th>\n",
       "      <th>SaleCheckInDayDiff</th>\n",
       "    </tr>\n",
       "  </thead>\n",
       "  <tbody>\n",
       "    <tr>\n",
       "      <th>count</th>\n",
       "      <td>59164.000000</td>\n",
       "      <td>59164</td>\n",
       "      <td>59164</td>\n",
       "      <td>59151.000000</td>\n",
       "      <td>59164.000000</td>\n",
       "    </tr>\n",
       "    <tr>\n",
       "      <th>mean</th>\n",
       "      <td>302675.795433</td>\n",
       "      <td>2021-02-11 17:13:11.751740928</td>\n",
       "      <td>2021-03-15 11:23:01.732134400</td>\n",
       "      <td>61.345057</td>\n",
       "      <td>31.840173</td>\n",
       "    </tr>\n",
       "    <tr>\n",
       "      <th>min</th>\n",
       "      <td>51707.000000</td>\n",
       "      <td>2016-01-02 00:00:00</td>\n",
       "      <td>2007-07-20 00:00:00</td>\n",
       "      <td>0.000000</td>\n",
       "      <td>0.000000</td>\n",
       "    </tr>\n",
       "    <tr>\n",
       "      <th>25%</th>\n",
       "      <td>274038.500000</td>\n",
       "      <td>2020-08-19 00:00:00</td>\n",
       "      <td>2020-08-24 00:00:00</td>\n",
       "      <td>35.343035</td>\n",
       "      <td>2.000000</td>\n",
       "    </tr>\n",
       "    <tr>\n",
       "      <th>50%</th>\n",
       "      <td>321607.000000</td>\n",
       "      <td>2021-07-28 00:00:00</td>\n",
       "      <td>2021-08-16 00:00:00</td>\n",
       "      <td>54.261294</td>\n",
       "      <td>10.000000</td>\n",
       "    </tr>\n",
       "    <tr>\n",
       "      <th>75%</th>\n",
       "      <td>367373.000000</td>\n",
       "      <td>2022-05-10 00:00:00</td>\n",
       "      <td>2022-07-04 00:00:00</td>\n",
       "      <td>77.962578</td>\n",
       "      <td>34.000000</td>\n",
       "    </tr>\n",
       "    <tr>\n",
       "      <th>max</th>\n",
       "      <td>415122.000000</td>\n",
       "      <td>2022-12-03 00:00:00</td>\n",
       "      <td>2023-08-16 00:00:00</td>\n",
       "      <td>4880.471380</td>\n",
       "      <td>630.000000</td>\n",
       "    </tr>\n",
       "    <tr>\n",
       "      <th>std</th>\n",
       "      <td>87943.222683</td>\n",
       "      <td>NaN</td>\n",
       "      <td>NaN</td>\n",
       "      <td>51.384617</td>\n",
       "      <td>51.493509</td>\n",
       "    </tr>\n",
       "  </tbody>\n",
       "</table>\n",
       "</div>"
      ],
      "text/plain": [
       "              SaleId                       SaleDate  \\\n",
       "count   59164.000000                          59164   \n",
       "mean   302675.795433  2021-02-11 17:13:11.751740928   \n",
       "min     51707.000000            2016-01-02 00:00:00   \n",
       "25%    274038.500000            2020-08-19 00:00:00   \n",
       "50%    321607.000000            2021-07-28 00:00:00   \n",
       "75%    367373.000000            2022-05-10 00:00:00   \n",
       "max    415122.000000            2022-12-03 00:00:00   \n",
       "std     87943.222683                            NaN   \n",
       "\n",
       "                         CheckInDate         Price  SaleCheckInDayDiff  \n",
       "count                          59164  59151.000000        59164.000000  \n",
       "mean   2021-03-15 11:23:01.732134400     61.345057           31.840173  \n",
       "min              2007-07-20 00:00:00      0.000000            0.000000  \n",
       "25%              2020-08-24 00:00:00     35.343035            2.000000  \n",
       "50%              2021-08-16 00:00:00     54.261294           10.000000  \n",
       "75%              2022-07-04 00:00:00     77.962578           34.000000  \n",
       "max              2023-08-16 00:00:00   4880.471380          630.000000  \n",
       "std                              NaN     51.384617           51.493509  "
      ]
     },
     "execution_count": 2,
     "metadata": {},
     "output_type": "execute_result"
    }
   ],
   "source": [
    "df.describe()"
   ]
  },
  {
   "cell_type": "markdown",
   "id": "90dc1cda",
   "metadata": {
    "papermill": {
     "duration": 0.013389,
     "end_time": "2024-05-21T12:01:29.307642",
     "exception": false,
     "start_time": "2024-05-21T12:01:29.294253",
     "status": "completed"
    },
    "tags": []
   },
   "source": [
    "### Question 2: How many unique cities are there? What are their frequencies?"
   ]
  },
  {
   "cell_type": "code",
   "execution_count": 3,
   "id": "43e9421e",
   "metadata": {
    "execution": {
     "iopub.execute_input": "2024-05-21T12:01:29.337181Z",
     "iopub.status.busy": "2024-05-21T12:01:29.336646Z",
     "iopub.status.idle": "2024-05-21T12:01:29.353754Z",
     "shell.execute_reply": "2024-05-21T12:01:29.352872Z"
    },
    "papermill": {
     "duration": 0.034568,
     "end_time": "2024-05-21T12:01:29.356089",
     "exception": false,
     "start_time": "2024-05-21T12:01:29.321521",
     "status": "completed"
    },
    "tags": []
   },
   "outputs": [
    {
     "data": {
      "text/plain": [
       "6"
      ]
     },
     "execution_count": 3,
     "metadata": {},
     "output_type": "execute_result"
    }
   ],
   "source": [
    "df[\"SaleCityName\"].nunique()"
   ]
  },
  {
   "cell_type": "code",
   "execution_count": 4,
   "id": "8a83f3f9",
   "metadata": {
    "execution": {
     "iopub.execute_input": "2024-05-21T12:01:29.387840Z",
     "iopub.status.busy": "2024-05-21T12:01:29.387107Z",
     "iopub.status.idle": "2024-05-21T12:01:29.408009Z",
     "shell.execute_reply": "2024-05-21T12:01:29.406813Z"
    },
    "papermill": {
     "duration": 0.040799,
     "end_time": "2024-05-21T12:01:29.411122",
     "exception": false,
     "start_time": "2024-05-21T12:01:29.370323",
     "status": "completed"
    },
    "tags": []
   },
   "outputs": [
    {
     "data": {
      "text/plain": [
       "SaleCityName\n",
       "Antalya    31649\n",
       "Muğla      10662\n",
       "Aydın      10646\n",
       "Diğer       3245\n",
       "İzmir       2507\n",
       "Girne        455\n",
       "Name: count, dtype: int64"
      ]
     },
     "execution_count": 4,
     "metadata": {},
     "output_type": "execute_result"
    }
   ],
   "source": [
    "df[\"SaleCityName\"].value_counts()"
   ]
  },
  {
   "cell_type": "markdown",
   "id": "6dc493dd",
   "metadata": {
    "papermill": {
     "duration": 0.014214,
     "end_time": "2024-05-21T12:01:29.440316",
     "exception": false,
     "start_time": "2024-05-21T12:01:29.426102",
     "status": "completed"
    },
    "tags": []
   },
   "source": [
    "### Question 3: How many unique concepts are there?"
   ]
  },
  {
   "cell_type": "code",
   "execution_count": 5,
   "id": "8a48935f",
   "metadata": {
    "execution": {
     "iopub.execute_input": "2024-05-21T12:01:29.470939Z",
     "iopub.status.busy": "2024-05-21T12:01:29.470483Z",
     "iopub.status.idle": "2024-05-21T12:01:29.483636Z",
     "shell.execute_reply": "2024-05-21T12:01:29.482423Z"
    },
    "papermill": {
     "duration": 0.031979,
     "end_time": "2024-05-21T12:01:29.486536",
     "exception": false,
     "start_time": "2024-05-21T12:01:29.454557",
     "status": "completed"
    },
    "tags": []
   },
   "outputs": [
    {
     "data": {
      "text/plain": [
       "3"
      ]
     },
     "execution_count": 5,
     "metadata": {},
     "output_type": "execute_result"
    }
   ],
   "source": [
    "df[\"ConceptName\"].nunique()"
   ]
  },
  {
   "cell_type": "markdown",
   "id": "3e74ea9a",
   "metadata": {
    "papermill": {
     "duration": 0.01442,
     "end_time": "2024-05-21T12:01:29.515704",
     "exception": false,
     "start_time": "2024-05-21T12:01:29.501284",
     "status": "completed"
    },
    "tags": []
   },
   "source": [
    "### Question 4: Calculate the number of sales according to the concepts"
   ]
  },
  {
   "cell_type": "code",
   "execution_count": 6,
   "id": "16193380",
   "metadata": {
    "execution": {
     "iopub.execute_input": "2024-05-21T12:01:29.547004Z",
     "iopub.status.busy": "2024-05-21T12:01:29.546027Z",
     "iopub.status.idle": "2024-05-21T12:01:29.565406Z",
     "shell.execute_reply": "2024-05-21T12:01:29.564519Z"
    },
    "papermill": {
     "duration": 0.037291,
     "end_time": "2024-05-21T12:01:29.567718",
     "exception": false,
     "start_time": "2024-05-21T12:01:29.530427",
     "status": "completed"
    },
    "tags": []
   },
   "outputs": [
    {
     "data": {
      "text/html": [
       "<div>\n",
       "<style scoped>\n",
       "    .dataframe tbody tr th:only-of-type {\n",
       "        vertical-align: middle;\n",
       "    }\n",
       "\n",
       "    .dataframe tbody tr th {\n",
       "        vertical-align: top;\n",
       "    }\n",
       "\n",
       "    .dataframe thead th {\n",
       "        text-align: right;\n",
       "    }\n",
       "</style>\n",
       "<table border=\"1\" class=\"dataframe\">\n",
       "  <thead>\n",
       "    <tr style=\"text-align: right;\">\n",
       "      <th></th>\n",
       "      <th>SaleId</th>\n",
       "    </tr>\n",
       "    <tr>\n",
       "      <th>ConceptName</th>\n",
       "      <th></th>\n",
       "    </tr>\n",
       "  </thead>\n",
       "  <tbody>\n",
       "    <tr>\n",
       "      <th>Herşey Dahil</th>\n",
       "      <td>53186</td>\n",
       "    </tr>\n",
       "    <tr>\n",
       "      <th>Oda + Kahvaltı</th>\n",
       "      <td>2419</td>\n",
       "    </tr>\n",
       "    <tr>\n",
       "      <th>Yarım Pansiyon</th>\n",
       "      <td>3559</td>\n",
       "    </tr>\n",
       "  </tbody>\n",
       "</table>\n",
       "</div>"
      ],
      "text/plain": [
       "                SaleId\n",
       "ConceptName           \n",
       "Herşey Dahil     53186\n",
       "Oda + Kahvaltı    2419\n",
       "Yarım Pansiyon    3559"
      ]
     },
     "execution_count": 6,
     "metadata": {},
     "output_type": "execute_result"
    }
   ],
   "source": [
    "df.groupby(\"ConceptName\").agg({\"SaleId\" : \"count\"})"
   ]
  },
  {
   "cell_type": "markdown",
   "id": "1e1cc1b9",
   "metadata": {
    "papermill": {
     "duration": 0.014821,
     "end_time": "2024-05-21T12:01:29.597228",
     "exception": false,
     "start_time": "2024-05-21T12:01:29.582407",
     "status": "completed"
    },
    "tags": []
   },
   "source": [
    "### Question 5: What is the total amount earned from sales by city?"
   ]
  },
  {
   "cell_type": "code",
   "execution_count": 7,
   "id": "aa00b17c",
   "metadata": {
    "execution": {
     "iopub.execute_input": "2024-05-21T12:01:29.629566Z",
     "iopub.status.busy": "2024-05-21T12:01:29.629180Z",
     "iopub.status.idle": "2024-05-21T12:01:29.654624Z",
     "shell.execute_reply": "2024-05-21T12:01:29.653309Z"
    },
    "papermill": {
     "duration": 0.04544,
     "end_time": "2024-05-21T12:01:29.657734",
     "exception": false,
     "start_time": "2024-05-21T12:01:29.612294",
     "status": "completed"
    },
    "tags": []
   },
   "outputs": [
    {
     "data": {
      "text/html": [
       "<div>\n",
       "<style scoped>\n",
       "    .dataframe tbody tr th:only-of-type {\n",
       "        vertical-align: middle;\n",
       "    }\n",
       "\n",
       "    .dataframe tbody tr th {\n",
       "        vertical-align: top;\n",
       "    }\n",
       "\n",
       "    .dataframe thead th {\n",
       "        text-align: right;\n",
       "    }\n",
       "</style>\n",
       "<table border=\"1\" class=\"dataframe\">\n",
       "  <thead>\n",
       "    <tr style=\"text-align: right;\">\n",
       "      <th></th>\n",
       "      <th>Price</th>\n",
       "    </tr>\n",
       "    <tr>\n",
       "      <th>SaleCityName</th>\n",
       "      <th></th>\n",
       "    </tr>\n",
       "  </thead>\n",
       "  <tbody>\n",
       "    <tr>\n",
       "      <th>Antalya</th>\n",
       "      <td>2.041911e+06</td>\n",
       "    </tr>\n",
       "    <tr>\n",
       "      <th>Aydın</th>\n",
       "      <td>5.732960e+05</td>\n",
       "    </tr>\n",
       "    <tr>\n",
       "      <th>Diğer</th>\n",
       "      <td>1.545723e+05</td>\n",
       "    </tr>\n",
       "    <tr>\n",
       "      <th>Girne</th>\n",
       "      <td>2.706503e+04</td>\n",
       "    </tr>\n",
       "    <tr>\n",
       "      <th>Muğla</th>\n",
       "      <td>6.658422e+05</td>\n",
       "    </tr>\n",
       "    <tr>\n",
       "      <th>İzmir</th>\n",
       "      <td>1.659348e+05</td>\n",
       "    </tr>\n",
       "  </tbody>\n",
       "</table>\n",
       "</div>"
      ],
      "text/plain": [
       "                     Price\n",
       "SaleCityName              \n",
       "Antalya       2.041911e+06\n",
       "Aydın         5.732960e+05\n",
       "Diğer         1.545723e+05\n",
       "Girne         2.706503e+04\n",
       "Muğla         6.658422e+05\n",
       "İzmir         1.659348e+05"
      ]
     },
     "execution_count": 7,
     "metadata": {},
     "output_type": "execute_result"
    }
   ],
   "source": [
    "df.groupby(\"SaleCityName\").agg({\"Price\": \"sum\"})"
   ]
  },
  {
   "cell_type": "markdown",
   "id": "5f6bbec7",
   "metadata": {
    "papermill": {
     "duration": 0.014886,
     "end_time": "2024-05-21T12:01:29.689250",
     "exception": false,
     "start_time": "2024-05-21T12:01:29.674364",
     "status": "completed"
    },
    "tags": []
   },
   "source": [
    "### Question 6:  How much was earned in total according to Concept Types?"
   ]
  },
  {
   "cell_type": "code",
   "execution_count": 8,
   "id": "63742cb8",
   "metadata": {
    "execution": {
     "iopub.execute_input": "2024-05-21T12:01:29.722262Z",
     "iopub.status.busy": "2024-05-21T12:01:29.721763Z",
     "iopub.status.idle": "2024-05-21T12:01:29.742830Z",
     "shell.execute_reply": "2024-05-21T12:01:29.741460Z"
    },
    "papermill": {
     "duration": 0.040308,
     "end_time": "2024-05-21T12:01:29.745575",
     "exception": false,
     "start_time": "2024-05-21T12:01:29.705267",
     "status": "completed"
    },
    "tags": []
   },
   "outputs": [
    {
     "data": {
      "text/html": [
       "<div>\n",
       "<style scoped>\n",
       "    .dataframe tbody tr th:only-of-type {\n",
       "        vertical-align: middle;\n",
       "    }\n",
       "\n",
       "    .dataframe tbody tr th {\n",
       "        vertical-align: top;\n",
       "    }\n",
       "\n",
       "    .dataframe thead th {\n",
       "        text-align: right;\n",
       "    }\n",
       "</style>\n",
       "<table border=\"1\" class=\"dataframe\">\n",
       "  <thead>\n",
       "    <tr style=\"text-align: right;\">\n",
       "      <th></th>\n",
       "      <th>Price</th>\n",
       "    </tr>\n",
       "    <tr>\n",
       "      <th>ConceptName</th>\n",
       "      <th></th>\n",
       "    </tr>\n",
       "  </thead>\n",
       "  <tbody>\n",
       "    <tr>\n",
       "      <th>Herşey Dahil</th>\n",
       "      <td>3.332911e+06</td>\n",
       "    </tr>\n",
       "    <tr>\n",
       "      <th>Oda + Kahvaltı</th>\n",
       "      <td>1.213084e+05</td>\n",
       "    </tr>\n",
       "    <tr>\n",
       "      <th>Yarım Pansiyon</th>\n",
       "      <td>1.744024e+05</td>\n",
       "    </tr>\n",
       "  </tbody>\n",
       "</table>\n",
       "</div>"
      ],
      "text/plain": [
       "                       Price\n",
       "ConceptName                 \n",
       "Herşey Dahil    3.332911e+06\n",
       "Oda + Kahvaltı  1.213084e+05\n",
       "Yarım Pansiyon  1.744024e+05"
      ]
     },
     "execution_count": 8,
     "metadata": {},
     "output_type": "execute_result"
    }
   ],
   "source": [
    "df.groupby(\"ConceptName\").agg({\"Price\": \"sum\"})"
   ]
  },
  {
   "cell_type": "markdown",
   "id": "168fae93",
   "metadata": {
    "papermill": {
     "duration": 0.015217,
     "end_time": "2024-05-21T12:01:29.776767",
     "exception": false,
     "start_time": "2024-05-21T12:01:29.761550",
     "status": "completed"
    },
    "tags": []
   },
   "source": [
    "### Question 7:  What are the PRICE averages by city?"
   ]
  },
  {
   "cell_type": "code",
   "execution_count": 9,
   "id": "b8d20f27",
   "metadata": {
    "execution": {
     "iopub.execute_input": "2024-05-21T12:01:29.811724Z",
     "iopub.status.busy": "2024-05-21T12:01:29.810840Z",
     "iopub.status.idle": "2024-05-21T12:01:29.834637Z",
     "shell.execute_reply": "2024-05-21T12:01:29.833372Z"
    },
    "papermill": {
     "duration": 0.045417,
     "end_time": "2024-05-21T12:01:29.837298",
     "exception": false,
     "start_time": "2024-05-21T12:01:29.791881",
     "status": "completed"
    },
    "tags": []
   },
   "outputs": [
    {
     "data": {
      "text/html": [
       "<div>\n",
       "<style scoped>\n",
       "    .dataframe tbody tr th:only-of-type {\n",
       "        vertical-align: middle;\n",
       "    }\n",
       "\n",
       "    .dataframe tbody tr th {\n",
       "        vertical-align: top;\n",
       "    }\n",
       "\n",
       "    .dataframe thead th {\n",
       "        text-align: right;\n",
       "    }\n",
       "</style>\n",
       "<table border=\"1\" class=\"dataframe\">\n",
       "  <thead>\n",
       "    <tr style=\"text-align: right;\">\n",
       "      <th></th>\n",
       "      <th>Price</th>\n",
       "    </tr>\n",
       "    <tr>\n",
       "      <th>SaleCityName</th>\n",
       "      <th></th>\n",
       "    </tr>\n",
       "  </thead>\n",
       "  <tbody>\n",
       "    <tr>\n",
       "      <th>İzmir</th>\n",
       "      <td>66.267905</td>\n",
       "    </tr>\n",
       "    <tr>\n",
       "      <th>Antalya</th>\n",
       "      <td>64.521474</td>\n",
       "    </tr>\n",
       "    <tr>\n",
       "      <th>Muğla</th>\n",
       "      <td>62.461746</td>\n",
       "    </tr>\n",
       "    <tr>\n",
       "      <th>Girne</th>\n",
       "      <td>59.483579</td>\n",
       "    </tr>\n",
       "    <tr>\n",
       "      <th>Aydın</th>\n",
       "      <td>53.855896</td>\n",
       "    </tr>\n",
       "    <tr>\n",
       "      <th>Diğer</th>\n",
       "      <td>47.707497</td>\n",
       "    </tr>\n",
       "  </tbody>\n",
       "</table>\n",
       "</div>"
      ],
      "text/plain": [
       "                  Price\n",
       "SaleCityName           \n",
       "İzmir         66.267905\n",
       "Antalya       64.521474\n",
       "Muğla         62.461746\n",
       "Girne         59.483579\n",
       "Aydın         53.855896\n",
       "Diğer         47.707497"
      ]
     },
     "execution_count": 9,
     "metadata": {},
     "output_type": "execute_result"
    }
   ],
   "source": [
    "df.groupby(\"SaleCityName\").agg({\"Price\":\"mean\"}).sort_values(by=\"Price\",ascending = False)"
   ]
  },
  {
   "cell_type": "markdown",
   "id": "519a03a2",
   "metadata": {
    "papermill": {
     "duration": 0.015681,
     "end_time": "2024-05-21T12:01:29.868271",
     "exception": false,
     "start_time": "2024-05-21T12:01:29.852590",
     "status": "completed"
    },
    "tags": []
   },
   "source": [
    "### Question 8:  What are the PRICE averages by concept?"
   ]
  },
  {
   "cell_type": "code",
   "execution_count": 10,
   "id": "fe04459d",
   "metadata": {
    "execution": {
     "iopub.execute_input": "2024-05-21T12:01:29.903826Z",
     "iopub.status.busy": "2024-05-21T12:01:29.903399Z",
     "iopub.status.idle": "2024-05-21T12:01:29.926937Z",
     "shell.execute_reply": "2024-05-21T12:01:29.925594Z"
    },
    "papermill": {
     "duration": 0.043742,
     "end_time": "2024-05-21T12:01:29.929627",
     "exception": false,
     "start_time": "2024-05-21T12:01:29.885885",
     "status": "completed"
    },
    "tags": []
   },
   "outputs": [
    {
     "data": {
      "text/html": [
       "<div>\n",
       "<style scoped>\n",
       "    .dataframe tbody tr th:only-of-type {\n",
       "        vertical-align: middle;\n",
       "    }\n",
       "\n",
       "    .dataframe tbody tr th {\n",
       "        vertical-align: top;\n",
       "    }\n",
       "\n",
       "    .dataframe thead th {\n",
       "        text-align: right;\n",
       "    }\n",
       "</style>\n",
       "<table border=\"1\" class=\"dataframe\">\n",
       "  <thead>\n",
       "    <tr style=\"text-align: right;\">\n",
       "      <th></th>\n",
       "      <th>Price</th>\n",
       "    </tr>\n",
       "    <tr>\n",
       "      <th>ConceptName</th>\n",
       "      <th></th>\n",
       "    </tr>\n",
       "  </thead>\n",
       "  <tbody>\n",
       "    <tr>\n",
       "      <th>Herşey Dahil</th>\n",
       "      <td>62.672260</td>\n",
       "    </tr>\n",
       "    <tr>\n",
       "      <th>Oda + Kahvaltı</th>\n",
       "      <td>50.252010</td>\n",
       "    </tr>\n",
       "    <tr>\n",
       "      <th>Yarım Pansiyon</th>\n",
       "      <td>49.030742</td>\n",
       "    </tr>\n",
       "  </tbody>\n",
       "</table>\n",
       "</div>"
      ],
      "text/plain": [
       "                    Price\n",
       "ConceptName              \n",
       "Herşey Dahil    62.672260\n",
       "Oda + Kahvaltı  50.252010\n",
       "Yarım Pansiyon  49.030742"
      ]
     },
     "execution_count": 10,
     "metadata": {},
     "output_type": "execute_result"
    }
   ],
   "source": [
    "df.groupby(\"ConceptName\").agg({\"Price\":\"mean\"}).sort_values(by=\"Price\",ascending = False)"
   ]
  },
  {
   "cell_type": "markdown",
   "id": "72c02d59",
   "metadata": {
    "papermill": {
     "duration": 0.018668,
     "end_time": "2024-05-21T12:01:29.965289",
     "exception": false,
     "start_time": "2024-05-21T12:01:29.946621",
     "status": "completed"
    },
    "tags": []
   },
   "source": [
    "### Question 9: What are the PRICE averages by City  and Concept together?"
   ]
  },
  {
   "cell_type": "code",
   "execution_count": 11,
   "id": "8e1babb5",
   "metadata": {
    "execution": {
     "iopub.execute_input": "2024-05-21T12:01:30.003422Z",
     "iopub.status.busy": "2024-05-21T12:01:30.002632Z",
     "iopub.status.idle": "2024-05-21T12:01:30.034458Z",
     "shell.execute_reply": "2024-05-21T12:01:30.033160Z"
    },
    "papermill": {
     "duration": 0.053862,
     "end_time": "2024-05-21T12:01:30.037549",
     "exception": false,
     "start_time": "2024-05-21T12:01:29.983687",
     "status": "completed"
    },
    "tags": []
   },
   "outputs": [
    {
     "data": {
      "text/html": [
       "<div>\n",
       "<style scoped>\n",
       "    .dataframe tbody tr th:only-of-type {\n",
       "        vertical-align: middle;\n",
       "    }\n",
       "\n",
       "    .dataframe tbody tr th {\n",
       "        vertical-align: top;\n",
       "    }\n",
       "\n",
       "    .dataframe thead th {\n",
       "        text-align: right;\n",
       "    }\n",
       "</style>\n",
       "<table border=\"1\" class=\"dataframe\">\n",
       "  <thead>\n",
       "    <tr style=\"text-align: right;\">\n",
       "      <th></th>\n",
       "      <th></th>\n",
       "      <th>Price</th>\n",
       "    </tr>\n",
       "    <tr>\n",
       "      <th>SaleCityName</th>\n",
       "      <th>ConceptName</th>\n",
       "      <th></th>\n",
       "    </tr>\n",
       "  </thead>\n",
       "  <tbody>\n",
       "    <tr>\n",
       "      <th rowspan=\"3\" valign=\"top\">Antalya</th>\n",
       "      <th>Herşey Dahil</th>\n",
       "      <td>64.519028</td>\n",
       "    </tr>\n",
       "    <tr>\n",
       "      <th>Oda + Kahvaltı</th>\n",
       "      <td>63.504816</td>\n",
       "    </tr>\n",
       "    <tr>\n",
       "      <th>Yarım Pansiyon</th>\n",
       "      <td>67.190613</td>\n",
       "    </tr>\n",
       "    <tr>\n",
       "      <th rowspan=\"3\" valign=\"top\">Aydın</th>\n",
       "      <th>Herşey Dahil</th>\n",
       "      <td>53.995467</td>\n",
       "    </tr>\n",
       "    <tr>\n",
       "      <th>Oda + Kahvaltı</th>\n",
       "      <td>34.458787</td>\n",
       "    </tr>\n",
       "    <tr>\n",
       "      <th>Yarım Pansiyon</th>\n",
       "      <td>30.016543</td>\n",
       "    </tr>\n",
       "    <tr>\n",
       "      <th rowspan=\"3\" valign=\"top\">Diğer</th>\n",
       "      <th>Herşey Dahil</th>\n",
       "      <td>84.771093</td>\n",
       "    </tr>\n",
       "    <tr>\n",
       "      <th>Oda + Kahvaltı</th>\n",
       "      <td>37.599082</td>\n",
       "    </tr>\n",
       "    <tr>\n",
       "      <th>Yarım Pansiyon</th>\n",
       "      <td>42.113440</td>\n",
       "    </tr>\n",
       "    <tr>\n",
       "      <th rowspan=\"3\" valign=\"top\">Girne</th>\n",
       "      <th>Herşey Dahil</th>\n",
       "      <td>97.680970</td>\n",
       "    </tr>\n",
       "    <tr>\n",
       "      <th>Oda + Kahvaltı</th>\n",
       "      <td>39.775536</td>\n",
       "    </tr>\n",
       "    <tr>\n",
       "      <th>Yarım Pansiyon</th>\n",
       "      <td>53.247838</td>\n",
       "    </tr>\n",
       "    <tr>\n",
       "      <th rowspan=\"3\" valign=\"top\">Muğla</th>\n",
       "      <th>Herşey Dahil</th>\n",
       "      <td>63.020053</td>\n",
       "    </tr>\n",
       "    <tr>\n",
       "      <th>Oda + Kahvaltı</th>\n",
       "      <td>59.037763</td>\n",
       "    </tr>\n",
       "    <tr>\n",
       "      <th>Yarım Pansiyon</th>\n",
       "      <td>45.120924</td>\n",
       "    </tr>\n",
       "    <tr>\n",
       "      <th rowspan=\"3\" valign=\"top\">İzmir</th>\n",
       "      <th>Herşey Dahil</th>\n",
       "      <td>74.701519</td>\n",
       "    </tr>\n",
       "    <tr>\n",
       "      <th>Oda + Kahvaltı</th>\n",
       "      <td>41.320342</td>\n",
       "    </tr>\n",
       "    <tr>\n",
       "      <th>Yarım Pansiyon</th>\n",
       "      <td>59.610053</td>\n",
       "    </tr>\n",
       "  </tbody>\n",
       "</table>\n",
       "</div>"
      ],
      "text/plain": [
       "                                 Price\n",
       "SaleCityName ConceptName              \n",
       "Antalya      Herşey Dahil    64.519028\n",
       "             Oda + Kahvaltı  63.504816\n",
       "             Yarım Pansiyon  67.190613\n",
       "Aydın        Herşey Dahil    53.995467\n",
       "             Oda + Kahvaltı  34.458787\n",
       "             Yarım Pansiyon  30.016543\n",
       "Diğer        Herşey Dahil    84.771093\n",
       "             Oda + Kahvaltı  37.599082\n",
       "             Yarım Pansiyon  42.113440\n",
       "Girne        Herşey Dahil    97.680970\n",
       "             Oda + Kahvaltı  39.775536\n",
       "             Yarım Pansiyon  53.247838\n",
       "Muğla        Herşey Dahil    63.020053\n",
       "             Oda + Kahvaltı  59.037763\n",
       "             Yarım Pansiyon  45.120924\n",
       "İzmir        Herşey Dahil    74.701519\n",
       "             Oda + Kahvaltı  41.320342\n",
       "             Yarım Pansiyon  59.610053"
      ]
     },
     "execution_count": 11,
     "metadata": {},
     "output_type": "execute_result"
    }
   ],
   "source": [
    "df.groupby([\"SaleCityName\",\"ConceptName\"]).agg({\"Price\":\"mean\"})"
   ]
  },
  {
   "cell_type": "code",
   "execution_count": 12,
   "id": "2b3f946e",
   "metadata": {
    "execution": {
     "iopub.execute_input": "2024-05-21T12:01:30.074632Z",
     "iopub.status.busy": "2024-05-21T12:01:30.073535Z",
     "iopub.status.idle": "2024-05-21T12:01:30.121878Z",
     "shell.execute_reply": "2024-05-21T12:01:30.120261Z"
    },
    "papermill": {
     "duration": 0.070199,
     "end_time": "2024-05-21T12:01:30.125801",
     "exception": false,
     "start_time": "2024-05-21T12:01:30.055602",
     "status": "completed"
    },
    "tags": []
   },
   "outputs": [
    {
     "data": {
      "text/html": [
       "<div>\n",
       "<style scoped>\n",
       "    .dataframe tbody tr th:only-of-type {\n",
       "        vertical-align: middle;\n",
       "    }\n",
       "\n",
       "    .dataframe tbody tr th {\n",
       "        vertical-align: top;\n",
       "    }\n",
       "\n",
       "    .dataframe thead th {\n",
       "        text-align: right;\n",
       "    }\n",
       "</style>\n",
       "<table border=\"1\" class=\"dataframe\">\n",
       "  <thead>\n",
       "    <tr style=\"text-align: right;\">\n",
       "      <th>ConceptName</th>\n",
       "      <th>Herşey Dahil</th>\n",
       "      <th>Oda + Kahvaltı</th>\n",
       "      <th>Yarım Pansiyon</th>\n",
       "    </tr>\n",
       "    <tr>\n",
       "      <th>SaleCityName</th>\n",
       "      <th></th>\n",
       "      <th></th>\n",
       "      <th></th>\n",
       "    </tr>\n",
       "  </thead>\n",
       "  <tbody>\n",
       "    <tr>\n",
       "      <th>Antalya</th>\n",
       "      <td>64.519028</td>\n",
       "      <td>63.504816</td>\n",
       "      <td>67.190613</td>\n",
       "    </tr>\n",
       "    <tr>\n",
       "      <th>Aydın</th>\n",
       "      <td>53.995467</td>\n",
       "      <td>34.458787</td>\n",
       "      <td>30.016543</td>\n",
       "    </tr>\n",
       "    <tr>\n",
       "      <th>Diğer</th>\n",
       "      <td>84.771093</td>\n",
       "      <td>37.599082</td>\n",
       "      <td>42.113440</td>\n",
       "    </tr>\n",
       "    <tr>\n",
       "      <th>Girne</th>\n",
       "      <td>97.680970</td>\n",
       "      <td>39.775536</td>\n",
       "      <td>53.247838</td>\n",
       "    </tr>\n",
       "    <tr>\n",
       "      <th>Muğla</th>\n",
       "      <td>63.020053</td>\n",
       "      <td>59.037763</td>\n",
       "      <td>45.120924</td>\n",
       "    </tr>\n",
       "    <tr>\n",
       "      <th>İzmir</th>\n",
       "      <td>74.701519</td>\n",
       "      <td>41.320342</td>\n",
       "      <td>59.610053</td>\n",
       "    </tr>\n",
       "  </tbody>\n",
       "</table>\n",
       "</div>"
      ],
      "text/plain": [
       "ConceptName   Herşey Dahil  Oda + Kahvaltı  Yarım Pansiyon\n",
       "SaleCityName                                              \n",
       "Antalya          64.519028       63.504816       67.190613\n",
       "Aydın            53.995467       34.458787       30.016543\n",
       "Diğer            84.771093       37.599082       42.113440\n",
       "Girne            97.680970       39.775536       53.247838\n",
       "Muğla            63.020053       59.037763       45.120924\n",
       "İzmir            74.701519       41.320342       59.610053"
      ]
     },
     "execution_count": 12,
     "metadata": {},
     "output_type": "execute_result"
    }
   ],
   "source": [
    "# Another solution\n",
    "df.pivot_table(values = \"Price\", index = \"SaleCityName\", columns = \"ConceptName\", aggfunc = \"mean\")"
   ]
  },
  {
   "cell_type": "markdown",
   "id": "09342db6",
   "metadata": {
    "papermill": {
     "duration": 0.017544,
     "end_time": "2024-05-21T12:01:30.160326",
     "exception": false,
     "start_time": "2024-05-21T12:01:30.142782",
     "status": "completed"
    },
    "tags": []
   },
   "source": [
    "# Task 2 : Convert the SaleCheckInDayDiff variable to a categorical variable.\n",
    "    - The SaleCheckInDayDiff variable indicates how long before the CheckIn date the customer completed the purchase.\n",
    "    - Create the intervals convincingly.\n",
    "      For example: you can use the ranges '0_7', '7_30', '30_90', '90_max'.\n",
    "    -You can use the names \"Last Minuters\", \"Potential Planners\", \"Planners\", \"Early Bookers\" for these intervals."
   ]
  },
  {
   "cell_type": "code",
   "execution_count": 13,
   "id": "de1663c9",
   "metadata": {
    "execution": {
     "iopub.execute_input": "2024-05-21T12:01:30.199122Z",
     "iopub.status.busy": "2024-05-21T12:01:30.198059Z",
     "iopub.status.idle": "2024-05-21T12:01:30.204871Z",
     "shell.execute_reply": "2024-05-21T12:01:30.203807Z"
    },
    "papermill": {
     "duration": 0.029438,
     "end_time": "2024-05-21T12:01:30.207919",
     "exception": false,
     "start_time": "2024-05-21T12:01:30.178481",
     "status": "completed"
    },
    "tags": []
   },
   "outputs": [],
   "source": [
    "# Let's adjust the bins and labels.\n",
    "bins_ =[0, 7, 30, 90, df[\"SaleCheckInDayDiff\"].max()] \n",
    "labels_ = ['Last Minuters','Potential Planners', 'Planners','Early Bookers']"
   ]
  },
  {
   "cell_type": "code",
   "execution_count": 14,
   "id": "edfcd20a",
   "metadata": {
    "execution": {
     "iopub.execute_input": "2024-05-21T12:01:30.312921Z",
     "iopub.status.busy": "2024-05-21T12:01:30.312518Z",
     "iopub.status.idle": "2024-05-21T12:01:30.327664Z",
     "shell.execute_reply": "2024-05-21T12:01:30.326588Z"
    },
    "papermill": {
     "duration": 0.038222,
     "end_time": "2024-05-21T12:01:30.331891",
     "exception": false,
     "start_time": "2024-05-21T12:01:30.293669",
     "status": "completed"
    },
    "tags": []
   },
   "outputs": [],
   "source": [
    "df[\"CheckInType\"] = pd.cut(df[\"SaleCheckInDayDiff\"], bins = bins_, labels = labels_, include_lowest = True)"
   ]
  },
  {
   "cell_type": "code",
   "execution_count": 15,
   "id": "865fc1d7",
   "metadata": {
    "execution": {
     "iopub.execute_input": "2024-05-21T12:01:30.373245Z",
     "iopub.status.busy": "2024-05-21T12:01:30.372079Z",
     "iopub.status.idle": "2024-05-21T12:01:30.390913Z",
     "shell.execute_reply": "2024-05-21T12:01:30.389703Z"
    },
    "papermill": {
     "duration": 0.043094,
     "end_time": "2024-05-21T12:01:30.393996",
     "exception": false,
     "start_time": "2024-05-21T12:01:30.350902",
     "status": "completed"
    },
    "tags": []
   },
   "outputs": [
    {
     "data": {
      "text/html": [
       "<div>\n",
       "<style scoped>\n",
       "    .dataframe tbody tr th:only-of-type {\n",
       "        vertical-align: middle;\n",
       "    }\n",
       "\n",
       "    .dataframe tbody tr th {\n",
       "        vertical-align: top;\n",
       "    }\n",
       "\n",
       "    .dataframe thead th {\n",
       "        text-align: right;\n",
       "    }\n",
       "</style>\n",
       "<table border=\"1\" class=\"dataframe\">\n",
       "  <thead>\n",
       "    <tr style=\"text-align: right;\">\n",
       "      <th></th>\n",
       "      <th>SaleId</th>\n",
       "      <th>SaleDate</th>\n",
       "      <th>CheckInDate</th>\n",
       "      <th>Price</th>\n",
       "      <th>ConceptName</th>\n",
       "      <th>SaleCityName</th>\n",
       "      <th>CInDay</th>\n",
       "      <th>SaleCheckInDayDiff</th>\n",
       "      <th>Seasons</th>\n",
       "      <th>CheckInType</th>\n",
       "    </tr>\n",
       "  </thead>\n",
       "  <tbody>\n",
       "    <tr>\n",
       "      <th>0</th>\n",
       "      <td>415122</td>\n",
       "      <td>2022-12-03</td>\n",
       "      <td>2022-12-03</td>\n",
       "      <td>79.304029</td>\n",
       "      <td>Herşey Dahil</td>\n",
       "      <td>Antalya</td>\n",
       "      <td>Saturday</td>\n",
       "      <td>0</td>\n",
       "      <td>Low</td>\n",
       "      <td>Last Minuters</td>\n",
       "    </tr>\n",
       "    <tr>\n",
       "      <th>1</th>\n",
       "      <td>415103</td>\n",
       "      <td>2022-12-03</td>\n",
       "      <td>2022-12-03</td>\n",
       "      <td>45.970696</td>\n",
       "      <td>Yarım Pansiyon</td>\n",
       "      <td>Antalya</td>\n",
       "      <td>Saturday</td>\n",
       "      <td>0</td>\n",
       "      <td>Low</td>\n",
       "      <td>Last Minuters</td>\n",
       "    </tr>\n",
       "    <tr>\n",
       "      <th>2</th>\n",
       "      <td>404034</td>\n",
       "      <td>2022-09-12</td>\n",
       "      <td>2022-09-13</td>\n",
       "      <td>77.838828</td>\n",
       "      <td>Herşey Dahil</td>\n",
       "      <td>Antalya</td>\n",
       "      <td>Tuesday</td>\n",
       "      <td>1</td>\n",
       "      <td>High</td>\n",
       "      <td>Last Minuters</td>\n",
       "    </tr>\n",
       "    <tr>\n",
       "      <th>3</th>\n",
       "      <td>415094</td>\n",
       "      <td>2022-12-03</td>\n",
       "      <td>2022-12-10</td>\n",
       "      <td>222.710623</td>\n",
       "      <td>Yarım Pansiyon</td>\n",
       "      <td>İzmir</td>\n",
       "      <td>Saturday</td>\n",
       "      <td>7</td>\n",
       "      <td>Low</td>\n",
       "      <td>Last Minuters</td>\n",
       "    </tr>\n",
       "    <tr>\n",
       "      <th>4</th>\n",
       "      <td>414951</td>\n",
       "      <td>2022-12-01</td>\n",
       "      <td>2022-12-03</td>\n",
       "      <td>140.476190</td>\n",
       "      <td>Yarım Pansiyon</td>\n",
       "      <td>İzmir</td>\n",
       "      <td>Saturday</td>\n",
       "      <td>2</td>\n",
       "      <td>Low</td>\n",
       "      <td>Last Minuters</td>\n",
       "    </tr>\n",
       "  </tbody>\n",
       "</table>\n",
       "</div>"
      ],
      "text/plain": [
       "   SaleId   SaleDate CheckInDate       Price     ConceptName SaleCityName  \\\n",
       "0  415122 2022-12-03  2022-12-03   79.304029    Herşey Dahil      Antalya   \n",
       "1  415103 2022-12-03  2022-12-03   45.970696  Yarım Pansiyon      Antalya   \n",
       "2  404034 2022-09-12  2022-09-13   77.838828    Herşey Dahil      Antalya   \n",
       "3  415094 2022-12-03  2022-12-10  222.710623  Yarım Pansiyon        İzmir   \n",
       "4  414951 2022-12-01  2022-12-03  140.476190  Yarım Pansiyon        İzmir   \n",
       "\n",
       "     CInDay  SaleCheckInDayDiff Seasons    CheckInType  \n",
       "0  Saturday                   0     Low  Last Minuters  \n",
       "1  Saturday                   0     Low  Last Minuters  \n",
       "2   Tuesday                   1    High  Last Minuters  \n",
       "3  Saturday                   7     Low  Last Minuters  \n",
       "4  Saturday                   2     Low  Last Minuters  "
      ]
     },
     "execution_count": 15,
     "metadata": {},
     "output_type": "execute_result"
    }
   ],
   "source": [
    "# Let's have a look at the dataset to check our new variable: CheckInType\n",
    "df.head()"
   ]
  },
  {
   "cell_type": "markdown",
   "id": "53b37f5a",
   "metadata": {
    "papermill": {
     "duration": 0.016817,
     "end_time": "2024-05-21T12:01:30.428765",
     "exception": false,
     "start_time": "2024-05-21T12:01:30.411948",
     "status": "completed"
    },
    "tags": []
   },
   "source": [
    "# Task 3: What are the average earnings by City, Concept, CheckInType, breakdown?"
   ]
  },
  {
   "cell_type": "code",
   "execution_count": 16,
   "id": "0742ba4d",
   "metadata": {
    "execution": {
     "iopub.execute_input": "2024-05-21T12:01:30.468632Z",
     "iopub.status.busy": "2024-05-21T12:01:30.468228Z",
     "iopub.status.idle": "2024-05-21T12:01:30.504979Z",
     "shell.execute_reply": "2024-05-21T12:01:30.503913Z"
    },
    "papermill": {
     "duration": 0.060559,
     "end_time": "2024-05-21T12:01:30.507331",
     "exception": false,
     "start_time": "2024-05-21T12:01:30.446772",
     "status": "completed"
    },
    "tags": []
   },
   "outputs": [
    {
     "data": {
      "text/html": [
       "<div>\n",
       "<style scoped>\n",
       "    .dataframe tbody tr th:only-of-type {\n",
       "        vertical-align: middle;\n",
       "    }\n",
       "\n",
       "    .dataframe tbody tr th {\n",
       "        vertical-align: top;\n",
       "    }\n",
       "\n",
       "    .dataframe thead th {\n",
       "        text-align: right;\n",
       "    }\n",
       "</style>\n",
       "<table border=\"1\" class=\"dataframe\">\n",
       "  <thead>\n",
       "    <tr style=\"text-align: right;\">\n",
       "      <th></th>\n",
       "      <th></th>\n",
       "      <th></th>\n",
       "      <th>Price</th>\n",
       "    </tr>\n",
       "    <tr>\n",
       "      <th>SaleCityName</th>\n",
       "      <th>ConceptName</th>\n",
       "      <th>CheckInType</th>\n",
       "      <th></th>\n",
       "    </tr>\n",
       "  </thead>\n",
       "  <tbody>\n",
       "    <tr>\n",
       "      <th rowspan=\"5\" valign=\"top\">Antalya</th>\n",
       "      <th rowspan=\"4\" valign=\"top\">Herşey Dahil</th>\n",
       "      <th>Last Minuters</th>\n",
       "      <td>62.752916</td>\n",
       "    </tr>\n",
       "    <tr>\n",
       "      <th>Potential Planners</th>\n",
       "      <td>64.903700</td>\n",
       "    </tr>\n",
       "    <tr>\n",
       "      <th>Planners</th>\n",
       "      <td>67.879960</td>\n",
       "    </tr>\n",
       "    <tr>\n",
       "      <th>Early Bookers</th>\n",
       "      <td>66.494885</td>\n",
       "    </tr>\n",
       "    <tr>\n",
       "      <th>Oda + Kahvaltı</th>\n",
       "      <th>Last Minuters</th>\n",
       "      <td>65.353740</td>\n",
       "    </tr>\n",
       "    <tr>\n",
       "      <th>...</th>\n",
       "      <th>...</th>\n",
       "      <th>...</th>\n",
       "      <td>...</td>\n",
       "    </tr>\n",
       "    <tr>\n",
       "      <th rowspan=\"5\" valign=\"top\">İzmir</th>\n",
       "      <th>Oda + Kahvaltı</th>\n",
       "      <th>Early Bookers</th>\n",
       "      <td>66.928111</td>\n",
       "    </tr>\n",
       "    <tr>\n",
       "      <th rowspan=\"4\" valign=\"top\">Yarım Pansiyon</th>\n",
       "      <th>Last Minuters</th>\n",
       "      <td>57.788126</td>\n",
       "    </tr>\n",
       "    <tr>\n",
       "      <th>Potential Planners</th>\n",
       "      <td>64.804043</td>\n",
       "    </tr>\n",
       "    <tr>\n",
       "      <th>Planners</th>\n",
       "      <td>60.507887</td>\n",
       "    </tr>\n",
       "    <tr>\n",
       "      <th>Early Bookers</th>\n",
       "      <td>65.905583</td>\n",
       "    </tr>\n",
       "  </tbody>\n",
       "</table>\n",
       "<p>72 rows × 1 columns</p>\n",
       "</div>"
      ],
      "text/plain": [
       "                                                    Price\n",
       "SaleCityName ConceptName    CheckInType                  \n",
       "Antalya      Herşey Dahil   Last Minuters       62.752916\n",
       "                            Potential Planners  64.903700\n",
       "                            Planners            67.879960\n",
       "                            Early Bookers       66.494885\n",
       "             Oda + Kahvaltı Last Minuters       65.353740\n",
       "...                                                   ...\n",
       "İzmir        Oda + Kahvaltı Early Bookers       66.928111\n",
       "             Yarım Pansiyon Last Minuters       57.788126\n",
       "                            Potential Planners  64.804043\n",
       "                            Planners            60.507887\n",
       "                            Early Bookers       65.905583\n",
       "\n",
       "[72 rows x 1 columns]"
      ]
     },
     "execution_count": 16,
     "metadata": {},
     "output_type": "execute_result"
    }
   ],
   "source": [
    "df.groupby([\"SaleCityName\", \"ConceptName\", \"CheckInType\"],observed=True).agg({\"Price\": \"mean\"})"
   ]
  },
  {
   "cell_type": "markdown",
   "id": "04814a06",
   "metadata": {
    "papermill": {
     "duration": 0.016484,
     "end_time": "2024-05-21T12:01:30.540923",
     "exception": false,
     "start_time": "2024-05-21T12:01:30.524439",
     "status": "completed"
    },
    "tags": []
   },
   "source": [
    "# Task 4: Sort the output of City-Concept Season breakdown according to PRICE. Save the output as agg_df."
   ]
  },
  {
   "cell_type": "code",
   "execution_count": 17,
   "id": "c7a07ac2",
   "metadata": {
    "execution": {
     "iopub.execute_input": "2024-05-21T12:01:30.580428Z",
     "iopub.status.busy": "2024-05-21T12:01:30.579749Z",
     "iopub.status.idle": "2024-05-21T12:01:30.614503Z",
     "shell.execute_reply": "2024-05-21T12:01:30.613657Z"
    },
    "papermill": {
     "duration": 0.056792,
     "end_time": "2024-05-21T12:01:30.616790",
     "exception": false,
     "start_time": "2024-05-21T12:01:30.559998",
     "status": "completed"
    },
    "tags": []
   },
   "outputs": [
    {
     "data": {
      "text/html": [
       "<div>\n",
       "<style scoped>\n",
       "    .dataframe tbody tr th:only-of-type {\n",
       "        vertical-align: middle;\n",
       "    }\n",
       "\n",
       "    .dataframe tbody tr th {\n",
       "        vertical-align: top;\n",
       "    }\n",
       "\n",
       "    .dataframe thead th {\n",
       "        text-align: right;\n",
       "    }\n",
       "</style>\n",
       "<table border=\"1\" class=\"dataframe\">\n",
       "  <thead>\n",
       "    <tr style=\"text-align: right;\">\n",
       "      <th></th>\n",
       "      <th></th>\n",
       "      <th></th>\n",
       "      <th>Price</th>\n",
       "    </tr>\n",
       "    <tr>\n",
       "      <th>SaleCityName</th>\n",
       "      <th>ConceptName</th>\n",
       "      <th>Seasons</th>\n",
       "      <th></th>\n",
       "    </tr>\n",
       "  </thead>\n",
       "  <tbody>\n",
       "    <tr>\n",
       "      <th rowspan=\"2\" valign=\"top\">Girne</th>\n",
       "      <th rowspan=\"2\" valign=\"top\">Herşey Dahil</th>\n",
       "      <th>High</th>\n",
       "      <td>103.935448</td>\n",
       "    </tr>\n",
       "    <tr>\n",
       "      <th>Low</th>\n",
       "      <td>90.935944</td>\n",
       "    </tr>\n",
       "    <tr>\n",
       "      <th>İzmir</th>\n",
       "      <th>Yarım Pansiyon</th>\n",
       "      <th>High</th>\n",
       "      <td>87.657303</td>\n",
       "    </tr>\n",
       "    <tr>\n",
       "      <th rowspan=\"2\" valign=\"top\">Diğer</th>\n",
       "      <th rowspan=\"2\" valign=\"top\">Herşey Dahil</th>\n",
       "      <th>Low</th>\n",
       "      <td>87.310882</td>\n",
       "    </tr>\n",
       "    <tr>\n",
       "      <th>High</th>\n",
       "      <td>83.787273</td>\n",
       "    </tr>\n",
       "  </tbody>\n",
       "</table>\n",
       "</div>"
      ],
      "text/plain": [
       "                                          Price\n",
       "SaleCityName ConceptName    Seasons            \n",
       "Girne        Herşey Dahil   High     103.935448\n",
       "                            Low       90.935944\n",
       "İzmir        Yarım Pansiyon High      87.657303\n",
       "Diğer        Herşey Dahil   Low       87.310882\n",
       "                            High      83.787273"
      ]
     },
     "execution_count": 17,
     "metadata": {},
     "output_type": "execute_result"
    }
   ],
   "source": [
    "agg_df = df.groupby([\"SaleCityName\", \"ConceptName\", \"Seasons\"]).agg({\"Price\":\"mean\"}).sort_values(by=\"Price\",ascending=False)\n",
    "agg_df.head()"
   ]
  },
  {
   "cell_type": "markdown",
   "id": "013773af",
   "metadata": {
    "papermill": {
     "duration": 0.016745,
     "end_time": "2024-05-21T12:01:30.650661",
     "exception": false,
     "start_time": "2024-05-21T12:01:30.633916",
     "status": "completed"
    },
    "tags": []
   },
   "source": [
    "# Task 5: Convert the index names to variable names.\n",
    "    All variables except PRICE in the output of the fourth question are index names. Convert these names to variable names."
   ]
  },
  {
   "cell_type": "code",
   "execution_count": 18,
   "id": "e4c4c965",
   "metadata": {
    "execution": {
     "iopub.execute_input": "2024-05-21T12:01:30.687291Z",
     "iopub.status.busy": "2024-05-21T12:01:30.686400Z",
     "iopub.status.idle": "2024-05-21T12:01:30.701460Z",
     "shell.execute_reply": "2024-05-21T12:01:30.700555Z"
    },
    "papermill": {
     "duration": 0.036169,
     "end_time": "2024-05-21T12:01:30.703752",
     "exception": false,
     "start_time": "2024-05-21T12:01:30.667583",
     "status": "completed"
    },
    "tags": []
   },
   "outputs": [
    {
     "data": {
      "text/html": [
       "<div>\n",
       "<style scoped>\n",
       "    .dataframe tbody tr th:only-of-type {\n",
       "        vertical-align: middle;\n",
       "    }\n",
       "\n",
       "    .dataframe tbody tr th {\n",
       "        vertical-align: top;\n",
       "    }\n",
       "\n",
       "    .dataframe thead th {\n",
       "        text-align: right;\n",
       "    }\n",
       "</style>\n",
       "<table border=\"1\" class=\"dataframe\">\n",
       "  <thead>\n",
       "    <tr style=\"text-align: right;\">\n",
       "      <th></th>\n",
       "      <th>SaleCityName</th>\n",
       "      <th>ConceptName</th>\n",
       "      <th>Seasons</th>\n",
       "      <th>Price</th>\n",
       "    </tr>\n",
       "  </thead>\n",
       "  <tbody>\n",
       "    <tr>\n",
       "      <th>0</th>\n",
       "      <td>Girne</td>\n",
       "      <td>Herşey Dahil</td>\n",
       "      <td>High</td>\n",
       "      <td>103.935448</td>\n",
       "    </tr>\n",
       "    <tr>\n",
       "      <th>1</th>\n",
       "      <td>Girne</td>\n",
       "      <td>Herşey Dahil</td>\n",
       "      <td>Low</td>\n",
       "      <td>90.935944</td>\n",
       "    </tr>\n",
       "    <tr>\n",
       "      <th>2</th>\n",
       "      <td>İzmir</td>\n",
       "      <td>Yarım Pansiyon</td>\n",
       "      <td>High</td>\n",
       "      <td>87.657303</td>\n",
       "    </tr>\n",
       "    <tr>\n",
       "      <th>3</th>\n",
       "      <td>Diğer</td>\n",
       "      <td>Herşey Dahil</td>\n",
       "      <td>Low</td>\n",
       "      <td>87.310882</td>\n",
       "    </tr>\n",
       "    <tr>\n",
       "      <th>4</th>\n",
       "      <td>Diğer</td>\n",
       "      <td>Herşey Dahil</td>\n",
       "      <td>High</td>\n",
       "      <td>83.787273</td>\n",
       "    </tr>\n",
       "  </tbody>\n",
       "</table>\n",
       "</div>"
      ],
      "text/plain": [
       "  SaleCityName     ConceptName Seasons       Price\n",
       "0        Girne    Herşey Dahil    High  103.935448\n",
       "1        Girne    Herşey Dahil     Low   90.935944\n",
       "2        İzmir  Yarım Pansiyon    High   87.657303\n",
       "3        Diğer    Herşey Dahil     Low   87.310882\n",
       "4        Diğer    Herşey Dahil    High   83.787273"
      ]
     },
     "execution_count": 18,
     "metadata": {},
     "output_type": "execute_result"
    }
   ],
   "source": [
    "agg_df.reset_index(inplace=True)\n",
    "agg_df.head()"
   ]
  },
  {
   "cell_type": "markdown",
   "id": "76629f65",
   "metadata": {
    "execution": {
     "iopub.execute_input": "2024-05-20T19:27:33.033453Z",
     "iopub.status.busy": "2024-05-20T19:27:33.032343Z",
     "iopub.status.idle": "2024-05-20T19:27:33.053956Z",
     "shell.execute_reply": "2024-05-20T19:27:33.052541Z",
     "shell.execute_reply.started": "2024-05-20T19:27:33.033405Z"
    },
    "papermill": {
     "duration": 0.016996,
     "end_time": "2024-05-21T12:01:30.738133",
     "exception": false,
     "start_time": "2024-05-21T12:01:30.721137",
     "status": "completed"
    },
    "tags": []
   },
   "source": [
    "# Task 6: Define a new level-based customer persona.\n",
    "    Define the new level-based sales and add it as a variable to the data set.\n",
    "    Name of the new variable to be added: sales_level_based\n",
    "    You need to create the variable sales_level_based by combining the observations in the output you will obtain in the previous question."
   ]
  },
  {
   "cell_type": "code",
   "execution_count": 19,
   "id": "e0b66853",
   "metadata": {
    "execution": {
     "iopub.execute_input": "2024-05-21T12:01:30.775491Z",
     "iopub.status.busy": "2024-05-21T12:01:30.774589Z",
     "iopub.status.idle": "2024-05-21T12:01:30.791257Z",
     "shell.execute_reply": "2024-05-21T12:01:30.789916Z"
    },
    "papermill": {
     "duration": 0.039033,
     "end_time": "2024-05-21T12:01:30.794475",
     "exception": false,
     "start_time": "2024-05-21T12:01:30.755442",
     "status": "completed"
    },
    "tags": []
   },
   "outputs": [
    {
     "data": {
      "text/html": [
       "<div>\n",
       "<style scoped>\n",
       "    .dataframe tbody tr th:only-of-type {\n",
       "        vertical-align: middle;\n",
       "    }\n",
       "\n",
       "    .dataframe tbody tr th {\n",
       "        vertical-align: top;\n",
       "    }\n",
       "\n",
       "    .dataframe thead th {\n",
       "        text-align: right;\n",
       "    }\n",
       "</style>\n",
       "<table border=\"1\" class=\"dataframe\">\n",
       "  <thead>\n",
       "    <tr style=\"text-align: right;\">\n",
       "      <th></th>\n",
       "      <th>SaleCityName</th>\n",
       "      <th>ConceptName</th>\n",
       "      <th>Seasons</th>\n",
       "      <th>Price</th>\n",
       "      <th>sales_level_based</th>\n",
       "    </tr>\n",
       "  </thead>\n",
       "  <tbody>\n",
       "    <tr>\n",
       "      <th>0</th>\n",
       "      <td>Girne</td>\n",
       "      <td>Herşey Dahil</td>\n",
       "      <td>High</td>\n",
       "      <td>103.935448</td>\n",
       "      <td>GIRNE_HERŞEY DAHIL_HIGH</td>\n",
       "    </tr>\n",
       "    <tr>\n",
       "      <th>1</th>\n",
       "      <td>Girne</td>\n",
       "      <td>Herşey Dahil</td>\n",
       "      <td>Low</td>\n",
       "      <td>90.935944</td>\n",
       "      <td>GIRNE_HERŞEY DAHIL_LOW</td>\n",
       "    </tr>\n",
       "    <tr>\n",
       "      <th>2</th>\n",
       "      <td>İzmir</td>\n",
       "      <td>Yarım Pansiyon</td>\n",
       "      <td>High</td>\n",
       "      <td>87.657303</td>\n",
       "      <td>İZMIR_YARIM PANSIYON_HIGH</td>\n",
       "    </tr>\n",
       "    <tr>\n",
       "      <th>3</th>\n",
       "      <td>Diğer</td>\n",
       "      <td>Herşey Dahil</td>\n",
       "      <td>Low</td>\n",
       "      <td>87.310882</td>\n",
       "      <td>DIĞER_HERŞEY DAHIL_LOW</td>\n",
       "    </tr>\n",
       "    <tr>\n",
       "      <th>4</th>\n",
       "      <td>Diğer</td>\n",
       "      <td>Herşey Dahil</td>\n",
       "      <td>High</td>\n",
       "      <td>83.787273</td>\n",
       "      <td>DIĞER_HERŞEY DAHIL_HIGH</td>\n",
       "    </tr>\n",
       "  </tbody>\n",
       "</table>\n",
       "</div>"
      ],
      "text/plain": [
       "  SaleCityName     ConceptName Seasons       Price          sales_level_based\n",
       "0        Girne    Herşey Dahil    High  103.935448    GIRNE_HERŞEY DAHIL_HIGH\n",
       "1        Girne    Herşey Dahil     Low   90.935944     GIRNE_HERŞEY DAHIL_LOW\n",
       "2        İzmir  Yarım Pansiyon    High   87.657303  İZMIR_YARIM PANSIYON_HIGH\n",
       "3        Diğer    Herşey Dahil     Low   87.310882     DIĞER_HERŞEY DAHIL_LOW\n",
       "4        Diğer    Herşey Dahil    High   83.787273    DIĞER_HERŞEY DAHIL_HIGH"
      ]
     },
     "execution_count": 19,
     "metadata": {},
     "output_type": "execute_result"
    }
   ],
   "source": [
    "agg_df[\"sales_level_based\"] = agg_df[[\"SaleCityName\", \"ConceptName\", \"Seasons\"]].apply(lambda x:\"_\".join(x), axis= 1).str.upper()\n",
    "agg_df.head()"
   ]
  },
  {
   "cell_type": "markdown",
   "id": "703ceaaf",
   "metadata": {
    "papermill": {
     "duration": 0.020037,
     "end_time": "2024-05-21T12:01:30.832735",
     "exception": false,
     "start_time": "2024-05-21T12:01:30.812698",
     "status": "completed"
    },
    "tags": []
   },
   "source": [
    "# Task 7: Define a new level-based customer persona.\n",
    "    -Divide the new personas into 4 segments according to PRICE.\n",
    "    - Add the segments to agg_df as a variable with SEGMENT naming.\n",
    "    - Describe the segments (group by segments and get price mean, max, sum)."
   ]
  },
  {
   "cell_type": "code",
   "execution_count": 20,
   "id": "5b596776",
   "metadata": {
    "execution": {
     "iopub.execute_input": "2024-05-21T12:01:30.872563Z",
     "iopub.status.busy": "2024-05-21T12:01:30.872188Z",
     "iopub.status.idle": "2024-05-21T12:01:30.894628Z",
     "shell.execute_reply": "2024-05-21T12:01:30.893351Z"
    },
    "papermill": {
     "duration": 0.045754,
     "end_time": "2024-05-21T12:01:30.897385",
     "exception": false,
     "start_time": "2024-05-21T12:01:30.851631",
     "status": "completed"
    },
    "tags": []
   },
   "outputs": [
    {
     "data": {
      "text/html": [
       "<div>\n",
       "<style scoped>\n",
       "    .dataframe tbody tr th:only-of-type {\n",
       "        vertical-align: middle;\n",
       "    }\n",
       "\n",
       "    .dataframe tbody tr th {\n",
       "        vertical-align: top;\n",
       "    }\n",
       "\n",
       "    .dataframe thead th {\n",
       "        text-align: right;\n",
       "    }\n",
       "</style>\n",
       "<table border=\"1\" class=\"dataframe\">\n",
       "  <thead>\n",
       "    <tr style=\"text-align: right;\">\n",
       "      <th></th>\n",
       "      <th>SaleCityName</th>\n",
       "      <th>ConceptName</th>\n",
       "      <th>Seasons</th>\n",
       "      <th>Price</th>\n",
       "      <th>sales_level_based</th>\n",
       "      <th>segment</th>\n",
       "    </tr>\n",
       "  </thead>\n",
       "  <tbody>\n",
       "    <tr>\n",
       "      <th>0</th>\n",
       "      <td>Girne</td>\n",
       "      <td>Herşey Dahil</td>\n",
       "      <td>High</td>\n",
       "      <td>103.935448</td>\n",
       "      <td>GIRNE_HERŞEY DAHIL_HIGH</td>\n",
       "      <td>A</td>\n",
       "    </tr>\n",
       "    <tr>\n",
       "      <th>1</th>\n",
       "      <td>Girne</td>\n",
       "      <td>Herşey Dahil</td>\n",
       "      <td>Low</td>\n",
       "      <td>90.935944</td>\n",
       "      <td>GIRNE_HERŞEY DAHIL_LOW</td>\n",
       "      <td>A</td>\n",
       "    </tr>\n",
       "    <tr>\n",
       "      <th>2</th>\n",
       "      <td>İzmir</td>\n",
       "      <td>Yarım Pansiyon</td>\n",
       "      <td>High</td>\n",
       "      <td>87.657303</td>\n",
       "      <td>İZMIR_YARIM PANSIYON_HIGH</td>\n",
       "      <td>A</td>\n",
       "    </tr>\n",
       "    <tr>\n",
       "      <th>3</th>\n",
       "      <td>Diğer</td>\n",
       "      <td>Herşey Dahil</td>\n",
       "      <td>Low</td>\n",
       "      <td>87.310882</td>\n",
       "      <td>DIĞER_HERŞEY DAHIL_LOW</td>\n",
       "      <td>A</td>\n",
       "    </tr>\n",
       "    <tr>\n",
       "      <th>4</th>\n",
       "      <td>Diğer</td>\n",
       "      <td>Herşey Dahil</td>\n",
       "      <td>High</td>\n",
       "      <td>83.787273</td>\n",
       "      <td>DIĞER_HERŞEY DAHIL_HIGH</td>\n",
       "      <td>A</td>\n",
       "    </tr>\n",
       "  </tbody>\n",
       "</table>\n",
       "</div>"
      ],
      "text/plain": [
       "  SaleCityName     ConceptName Seasons       Price          sales_level_based  \\\n",
       "0        Girne    Herşey Dahil    High  103.935448    GIRNE_HERŞEY DAHIL_HIGH   \n",
       "1        Girne    Herşey Dahil     Low   90.935944     GIRNE_HERŞEY DAHIL_LOW   \n",
       "2        İzmir  Yarım Pansiyon    High   87.657303  İZMIR_YARIM PANSIYON_HIGH   \n",
       "3        Diğer    Herşey Dahil     Low   87.310882     DIĞER_HERŞEY DAHIL_LOW   \n",
       "4        Diğer    Herşey Dahil    High   83.787273    DIĞER_HERŞEY DAHIL_HIGH   \n",
       "\n",
       "  segment  \n",
       "0       A  \n",
       "1       A  \n",
       "2       A  \n",
       "3       A  \n",
       "4       A  "
      ]
     },
     "execution_count": 20,
     "metadata": {},
     "output_type": "execute_result"
    }
   ],
   "source": [
    "agg_df[\"segment\"] = pd.qcut(agg_df[\"Price\"], q = 4, labels = [\"D\",\"C\",\"B\",\"A\"])\n",
    "agg_df.head()"
   ]
  },
  {
   "cell_type": "code",
   "execution_count": 21,
   "id": "f9a75441",
   "metadata": {
    "execution": {
     "iopub.execute_input": "2024-05-21T12:01:30.937944Z",
     "iopub.status.busy": "2024-05-21T12:01:30.937295Z",
     "iopub.status.idle": "2024-05-21T12:01:30.953342Z",
     "shell.execute_reply": "2024-05-21T12:01:30.952045Z"
    },
    "papermill": {
     "duration": 0.03967,
     "end_time": "2024-05-21T12:01:30.956442",
     "exception": false,
     "start_time": "2024-05-21T12:01:30.916772",
     "status": "completed"
    },
    "tags": []
   },
   "outputs": [
    {
     "data": {
      "text/html": [
       "<div>\n",
       "<style scoped>\n",
       "    .dataframe tbody tr th:only-of-type {\n",
       "        vertical-align: middle;\n",
       "    }\n",
       "\n",
       "    .dataframe tbody tr th {\n",
       "        vertical-align: top;\n",
       "    }\n",
       "\n",
       "    .dataframe thead th {\n",
       "        text-align: right;\n",
       "    }\n",
       "</style>\n",
       "<table border=\"1\" class=\"dataframe\">\n",
       "  <thead>\n",
       "    <tr style=\"text-align: right;\">\n",
       "      <th></th>\n",
       "      <th>Price</th>\n",
       "    </tr>\n",
       "    <tr>\n",
       "      <th>sales_level_based</th>\n",
       "      <th></th>\n",
       "    </tr>\n",
       "  </thead>\n",
       "  <tbody>\n",
       "    <tr>\n",
       "      <th>ANTALYA_HERŞEY DAHIL_HIGH</th>\n",
       "      <td>64.920065</td>\n",
       "    </tr>\n",
       "    <tr>\n",
       "      <th>ANTALYA_HERŞEY DAHIL_LOW</th>\n",
       "      <td>61.552427</td>\n",
       "    </tr>\n",
       "    <tr>\n",
       "      <th>ANTALYA_ODA + KAHVALTI_HIGH</th>\n",
       "      <td>66.267969</td>\n",
       "    </tr>\n",
       "    <tr>\n",
       "      <th>ANTALYA_ODA + KAHVALTI_LOW</th>\n",
       "      <td>60.666730</td>\n",
       "    </tr>\n",
       "    <tr>\n",
       "      <th>ANTALYA_YARIM PANSIYON_HIGH</th>\n",
       "      <td>73.259029</td>\n",
       "    </tr>\n",
       "    <tr>\n",
       "      <th>ANTALYA_YARIM PANSIYON_LOW</th>\n",
       "      <td>62.001678</td>\n",
       "    </tr>\n",
       "    <tr>\n",
       "      <th>AYDIN_HERŞEY DAHIL_HIGH</th>\n",
       "      <td>54.946560</td>\n",
       "    </tr>\n",
       "    <tr>\n",
       "      <th>AYDIN_HERŞEY DAHIL_LOW</th>\n",
       "      <td>33.680699</td>\n",
       "    </tr>\n",
       "    <tr>\n",
       "      <th>AYDIN_ODA + KAHVALTI_HIGH</th>\n",
       "      <td>30.387530</td>\n",
       "    </tr>\n",
       "    <tr>\n",
       "      <th>AYDIN_ODA + KAHVALTI_LOW</th>\n",
       "      <td>44.451874</td>\n",
       "    </tr>\n",
       "    <tr>\n",
       "      <th>AYDIN_YARIM PANSIYON_HIGH</th>\n",
       "      <td>32.626152</td>\n",
       "    </tr>\n",
       "    <tr>\n",
       "      <th>AYDIN_YARIM PANSIYON_LOW</th>\n",
       "      <td>25.271799</td>\n",
       "    </tr>\n",
       "    <tr>\n",
       "      <th>DIĞER_HERŞEY DAHIL_HIGH</th>\n",
       "      <td>83.787273</td>\n",
       "    </tr>\n",
       "    <tr>\n",
       "      <th>DIĞER_HERŞEY DAHIL_LOW</th>\n",
       "      <td>87.310882</td>\n",
       "    </tr>\n",
       "    <tr>\n",
       "      <th>DIĞER_ODA + KAHVALTI_HIGH</th>\n",
       "      <td>34.839543</td>\n",
       "    </tr>\n",
       "    <tr>\n",
       "      <th>DIĞER_ODA + KAHVALTI_LOW</th>\n",
       "      <td>39.959569</td>\n",
       "    </tr>\n",
       "    <tr>\n",
       "      <th>DIĞER_YARIM PANSIYON_HIGH</th>\n",
       "      <td>39.731916</td>\n",
       "    </tr>\n",
       "    <tr>\n",
       "      <th>DIĞER_YARIM PANSIYON_LOW</th>\n",
       "      <td>42.953978</td>\n",
       "    </tr>\n",
       "    <tr>\n",
       "      <th>GIRNE_HERŞEY DAHIL_HIGH</th>\n",
       "      <td>103.935448</td>\n",
       "    </tr>\n",
       "    <tr>\n",
       "      <th>GIRNE_HERŞEY DAHIL_LOW</th>\n",
       "      <td>90.935944</td>\n",
       "    </tr>\n",
       "    <tr>\n",
       "      <th>GIRNE_ODA + KAHVALTI_HIGH</th>\n",
       "      <td>39.479630</td>\n",
       "    </tr>\n",
       "    <tr>\n",
       "      <th>GIRNE_ODA + KAHVALTI_LOW</th>\n",
       "      <td>40.043067</td>\n",
       "    </tr>\n",
       "    <tr>\n",
       "      <th>GIRNE_YARIM PANSIYON_HIGH</th>\n",
       "      <td>58.383668</td>\n",
       "    </tr>\n",
       "    <tr>\n",
       "      <th>GIRNE_YARIM PANSIYON_LOW</th>\n",
       "      <td>48.578903</td>\n",
       "    </tr>\n",
       "    <tr>\n",
       "      <th>MUĞLA_HERŞEY DAHIL_HIGH</th>\n",
       "      <td>63.384036</td>\n",
       "    </tr>\n",
       "    <tr>\n",
       "      <th>MUĞLA_HERŞEY DAHIL_LOW</th>\n",
       "      <td>48.304086</td>\n",
       "    </tr>\n",
       "    <tr>\n",
       "      <th>MUĞLA_ODA + KAHVALTI_HIGH</th>\n",
       "      <td>61.264691</td>\n",
       "    </tr>\n",
       "    <tr>\n",
       "      <th>MUĞLA_ODA + KAHVALTI_LOW</th>\n",
       "      <td>37.774192</td>\n",
       "    </tr>\n",
       "    <tr>\n",
       "      <th>MUĞLA_YARIM PANSIYON_HIGH</th>\n",
       "      <td>45.823698</td>\n",
       "    </tr>\n",
       "    <tr>\n",
       "      <th>MUĞLA_YARIM PANSIYON_LOW</th>\n",
       "      <td>32.681812</td>\n",
       "    </tr>\n",
       "    <tr>\n",
       "      <th>İZMIR_HERŞEY DAHIL_HIGH</th>\n",
       "      <td>74.748363</td>\n",
       "    </tr>\n",
       "    <tr>\n",
       "      <th>İZMIR_HERŞEY DAHIL_LOW</th>\n",
       "      <td>74.308287</td>\n",
       "    </tr>\n",
       "    <tr>\n",
       "      <th>İZMIR_ODA + KAHVALTI_HIGH</th>\n",
       "      <td>54.141797</td>\n",
       "    </tr>\n",
       "    <tr>\n",
       "      <th>İZMIR_ODA + KAHVALTI_LOW</th>\n",
       "      <td>33.555235</td>\n",
       "    </tr>\n",
       "    <tr>\n",
       "      <th>İZMIR_YARIM PANSIYON_HIGH</th>\n",
       "      <td>87.657303</td>\n",
       "    </tr>\n",
       "    <tr>\n",
       "      <th>İZMIR_YARIM PANSIYON_LOW</th>\n",
       "      <td>55.350626</td>\n",
       "    </tr>\n",
       "  </tbody>\n",
       "</table>\n",
       "</div>"
      ],
      "text/plain": [
       "                                  Price\n",
       "sales_level_based                      \n",
       "ANTALYA_HERŞEY DAHIL_HIGH     64.920065\n",
       "ANTALYA_HERŞEY DAHIL_LOW      61.552427\n",
       "ANTALYA_ODA + KAHVALTI_HIGH   66.267969\n",
       "ANTALYA_ODA + KAHVALTI_LOW    60.666730\n",
       "ANTALYA_YARIM PANSIYON_HIGH   73.259029\n",
       "ANTALYA_YARIM PANSIYON_LOW    62.001678\n",
       "AYDIN_HERŞEY DAHIL_HIGH       54.946560\n",
       "AYDIN_HERŞEY DAHIL_LOW        33.680699\n",
       "AYDIN_ODA + KAHVALTI_HIGH     30.387530\n",
       "AYDIN_ODA + KAHVALTI_LOW      44.451874\n",
       "AYDIN_YARIM PANSIYON_HIGH     32.626152\n",
       "AYDIN_YARIM PANSIYON_LOW      25.271799\n",
       "DIĞER_HERŞEY DAHIL_HIGH       83.787273\n",
       "DIĞER_HERŞEY DAHIL_LOW        87.310882\n",
       "DIĞER_ODA + KAHVALTI_HIGH     34.839543\n",
       "DIĞER_ODA + KAHVALTI_LOW      39.959569\n",
       "DIĞER_YARIM PANSIYON_HIGH     39.731916\n",
       "DIĞER_YARIM PANSIYON_LOW      42.953978\n",
       "GIRNE_HERŞEY DAHIL_HIGH      103.935448\n",
       "GIRNE_HERŞEY DAHIL_LOW        90.935944\n",
       "GIRNE_ODA + KAHVALTI_HIGH     39.479630\n",
       "GIRNE_ODA + KAHVALTI_LOW      40.043067\n",
       "GIRNE_YARIM PANSIYON_HIGH     58.383668\n",
       "GIRNE_YARIM PANSIYON_LOW      48.578903\n",
       "MUĞLA_HERŞEY DAHIL_HIGH       63.384036\n",
       "MUĞLA_HERŞEY DAHIL_LOW        48.304086\n",
       "MUĞLA_ODA + KAHVALTI_HIGH     61.264691\n",
       "MUĞLA_ODA + KAHVALTI_LOW      37.774192\n",
       "MUĞLA_YARIM PANSIYON_HIGH     45.823698\n",
       "MUĞLA_YARIM PANSIYON_LOW      32.681812\n",
       "İZMIR_HERŞEY DAHIL_HIGH       74.748363\n",
       "İZMIR_HERŞEY DAHIL_LOW        74.308287\n",
       "İZMIR_ODA + KAHVALTI_HIGH     54.141797\n",
       "İZMIR_ODA + KAHVALTI_LOW      33.555235\n",
       "İZMIR_YARIM PANSIYON_HIGH     87.657303\n",
       "İZMIR_YARIM PANSIYON_LOW      55.350626"
      ]
     },
     "execution_count": 21,
     "metadata": {},
     "output_type": "execute_result"
    }
   ],
   "source": [
    "agg_df.groupby(\"sales_level_based\").agg({\"Price\":\"mean\"})"
   ]
  },
  {
   "cell_type": "markdown",
   "id": "a798a1f3",
   "metadata": {
    "papermill": {
     "duration": 0.019052,
     "end_time": "2024-05-21T12:01:30.995194",
     "exception": false,
     "start_time": "2024-05-21T12:01:30.976142",
     "status": "completed"
    },
    "tags": []
   },
   "source": [
    "# Task 8: Categorise new customers and estimate how much revenue they can generate\n",
    "    - How much income is a person who wants to have an all-inclusive holiday in Antalya in high season expected to earn on average?\n",
    "    - In which segment will a holidaymaker who goes to a half board hotel in Girne in low season be placed?"
   ]
  },
  {
   "cell_type": "code",
   "execution_count": 22,
   "id": "708f4590",
   "metadata": {
    "execution": {
     "iopub.execute_input": "2024-05-21T12:01:31.035756Z",
     "iopub.status.busy": "2024-05-21T12:01:31.035358Z",
     "iopub.status.idle": "2024-05-21T12:01:31.051599Z",
     "shell.execute_reply": "2024-05-21T12:01:31.050332Z"
    },
    "papermill": {
     "duration": 0.039935,
     "end_time": "2024-05-21T12:01:31.054872",
     "exception": false,
     "start_time": "2024-05-21T12:01:31.014937",
     "status": "completed"
    },
    "tags": []
   },
   "outputs": [
    {
     "data": {
      "text/html": [
       "<div>\n",
       "<style scoped>\n",
       "    .dataframe tbody tr th:only-of-type {\n",
       "        vertical-align: middle;\n",
       "    }\n",
       "\n",
       "    .dataframe tbody tr th {\n",
       "        vertical-align: top;\n",
       "    }\n",
       "\n",
       "    .dataframe thead th {\n",
       "        text-align: right;\n",
       "    }\n",
       "</style>\n",
       "<table border=\"1\" class=\"dataframe\">\n",
       "  <thead>\n",
       "    <tr style=\"text-align: right;\">\n",
       "      <th></th>\n",
       "      <th>SaleCityName</th>\n",
       "      <th>ConceptName</th>\n",
       "      <th>Seasons</th>\n",
       "      <th>Price</th>\n",
       "      <th>sales_level_based</th>\n",
       "      <th>segment</th>\n",
       "    </tr>\n",
       "  </thead>\n",
       "  <tbody>\n",
       "    <tr>\n",
       "      <th>9</th>\n",
       "      <td>Antalya</td>\n",
       "      <td>Herşey Dahil</td>\n",
       "      <td>High</td>\n",
       "      <td>64.920065</td>\n",
       "      <td>ANTALYA_HERŞEY DAHIL_HIGH</td>\n",
       "      <td>B</td>\n",
       "    </tr>\n",
       "  </tbody>\n",
       "</table>\n",
       "</div>"
      ],
      "text/plain": [
       "  SaleCityName   ConceptName Seasons      Price          sales_level_based  \\\n",
       "9      Antalya  Herşey Dahil    High  64.920065  ANTALYA_HERŞEY DAHIL_HIGH   \n",
       "\n",
       "  segment  \n",
       "9       B  "
      ]
     },
     "execution_count": 22,
     "metadata": {},
     "output_type": "execute_result"
    }
   ],
   "source": [
    "new_user = \"ANTALYA_HERŞEY DAHIL_HIGH\"\n",
    "agg_df[agg_df[\"sales_level_based\"] == new_user]"
   ]
  },
  {
   "cell_type": "code",
   "execution_count": 23,
   "id": "eee9b372",
   "metadata": {
    "execution": {
     "iopub.execute_input": "2024-05-21T12:01:31.098043Z",
     "iopub.status.busy": "2024-05-21T12:01:31.096437Z",
     "iopub.status.idle": "2024-05-21T12:01:31.112111Z",
     "shell.execute_reply": "2024-05-21T12:01:31.110473Z"
    },
    "papermill": {
     "duration": 0.040377,
     "end_time": "2024-05-21T12:01:31.115431",
     "exception": false,
     "start_time": "2024-05-21T12:01:31.075054",
     "status": "completed"
    },
    "tags": []
   },
   "outputs": [
    {
     "data": {
      "text/html": [
       "<div>\n",
       "<style scoped>\n",
       "    .dataframe tbody tr th:only-of-type {\n",
       "        vertical-align: middle;\n",
       "    }\n",
       "\n",
       "    .dataframe tbody tr th {\n",
       "        vertical-align: top;\n",
       "    }\n",
       "\n",
       "    .dataframe thead th {\n",
       "        text-align: right;\n",
       "    }\n",
       "</style>\n",
       "<table border=\"1\" class=\"dataframe\">\n",
       "  <thead>\n",
       "    <tr style=\"text-align: right;\">\n",
       "      <th></th>\n",
       "      <th>SaleCityName</th>\n",
       "      <th>ConceptName</th>\n",
       "      <th>Seasons</th>\n",
       "      <th>Price</th>\n",
       "      <th>sales_level_based</th>\n",
       "      <th>segment</th>\n",
       "    </tr>\n",
       "  </thead>\n",
       "  <tbody>\n",
       "    <tr>\n",
       "      <th>19</th>\n",
       "      <td>Girne</td>\n",
       "      <td>Yarım Pansiyon</td>\n",
       "      <td>Low</td>\n",
       "      <td>48.578903</td>\n",
       "      <td>GIRNE_YARIM PANSIYON_LOW</td>\n",
       "      <td>C</td>\n",
       "    </tr>\n",
       "  </tbody>\n",
       "</table>\n",
       "</div>"
      ],
      "text/plain": [
       "   SaleCityName     ConceptName Seasons      Price         sales_level_based  \\\n",
       "19        Girne  Yarım Pansiyon     Low  48.578903  GIRNE_YARIM PANSIYON_LOW   \n",
       "\n",
       "   segment  \n",
       "19       C  "
      ]
     },
     "execution_count": 23,
     "metadata": {},
     "output_type": "execute_result"
    }
   ],
   "source": [
    "another_user = 'GIRNE_YARIM PANSIYON_LOW'\n",
    "agg_df[agg_df['sales_level_based'] == another_user]"
   ]
  },
  {
   "cell_type": "markdown",
   "id": "0cd4e272",
   "metadata": {
    "papermill": {
     "duration": 0.018815,
     "end_time": "2024-05-21T12:01:31.153398",
     "exception": false,
     "start_time": "2024-05-21T12:01:31.134583",
     "status": "completed"
    },
    "tags": []
   },
   "source": [
    "# Summary:\n",
    "    This case study contributed to the use of the pandas library in exploratory data analysis, the use of commonly used functions in data preprocessing such as apply and lambda, data preprocessing, data filtering, aggregation."
   ]
  },
  {
   "cell_type": "code",
   "execution_count": null,
   "id": "2ea15706",
   "metadata": {
    "papermill": {
     "duration": 0.019716,
     "end_time": "2024-05-21T12:01:31.192423",
     "exception": false,
     "start_time": "2024-05-21T12:01:31.172707",
     "status": "completed"
    },
    "tags": []
   },
   "outputs": [],
   "source": []
  }
 ],
 "metadata": {
  "kaggle": {
   "accelerator": "none",
   "dataSources": [
    {
     "datasetId": 5050191,
     "sourceId": 8469792,
     "sourceType": "datasetVersion"
    }
   ],
   "dockerImageVersionId": 30698,
   "isGpuEnabled": false,
   "isInternetEnabled": true,
   "language": "python",
   "sourceType": "notebook"
  },
  "kernelspec": {
   "display_name": "Python 3",
   "language": "python",
   "name": "python3"
  },
  "language_info": {
   "codemirror_mode": {
    "name": "ipython",
    "version": 3
   },
   "file_extension": ".py",
   "mimetype": "text/x-python",
   "name": "python",
   "nbconvert_exporter": "python",
   "pygments_lexer": "ipython3",
   "version": "3.10.13"
  },
  "papermill": {
   "default_parameters": {},
   "duration": 22.560916,
   "end_time": "2024-05-21T12:01:31.734786",
   "environment_variables": {},
   "exception": null,
   "input_path": "__notebook__.ipynb",
   "output_path": "__notebook__.ipynb",
   "parameters": {},
   "start_time": "2024-05-21T12:01:09.173870",
   "version": "2.5.0"
  }
 },
 "nbformat": 4,
 "nbformat_minor": 5
}
